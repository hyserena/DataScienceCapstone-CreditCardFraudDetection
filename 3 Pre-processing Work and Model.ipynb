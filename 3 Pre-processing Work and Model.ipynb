{
 "cells": [
  {
   "cell_type": "markdown",
   "id": "d3bcc5c4",
   "metadata": {},
   "source": [
    "# Pre-processing Work and Model - \"Credit Card Fraud Detection\"¶"
   ]
  },
  {
   "cell_type": "markdown",
   "id": "dad9532f",
   "metadata": {},
   "source": [
    "#### Objective: "
   ]
  },
  {
   "cell_type": "markdown",
   "id": "eceddcb9",
   "metadata": {},
   "source": [
    "## Import"
   ]
  },
  {
   "cell_type": "code",
   "execution_count": 1,
   "id": "8d4139d2",
   "metadata": {
    "scrolled": true
   },
   "outputs": [],
   "source": [
    "import pandas as pd\n",
    "import time\n",
    "import numpy as np\n",
    "from sklearn.model_selection import train_test_split\n",
    "from sklearn.preprocessing import StandardScaler\n",
    "from sklearn.metrics import accuracy_score\n",
    "from tensorflow.keras.models import Sequential\n",
    "from tensorflow.keras.layers import Dense, Input"
   ]
  },
  {
   "cell_type": "markdown",
   "id": "2bbf110c",
   "metadata": {},
   "source": [
    "## Load the Cleaned Data"
   ]
  },
  {
   "cell_type": "code",
   "execution_count": 2,
   "id": "545e7eb7",
   "metadata": {},
   "outputs": [],
   "source": [
    "transactions = pd.read_csv('data/cleaned_transactions.csv')"
   ]
  },
  {
   "cell_type": "code",
   "execution_count": 3,
   "id": "d8e32c5d",
   "metadata": {
    "scrolled": true
   },
   "outputs": [
    {
     "name": "stdout",
     "output_type": "stream",
     "text": [
      "Index(['credit_card', 'date', 'transaction_dollar_amount', 'Long', 'Lat',\n",
      "       'day_of_week', 'hour_of_day', 'transactions_last_hour'],\n",
      "      dtype='object')\n"
     ]
    }
   ],
   "source": [
    "print(transactions.columns)"
   ]
  },
  {
   "cell_type": "markdown",
   "id": "505b10ae",
   "metadata": {},
   "source": [
    "## Convert 'date' and extract components"
   ]
  },
  {
   "cell_type": "code",
   "execution_count": 4,
   "id": "d9d5045c",
   "metadata": {},
   "outputs": [],
   "source": [
    "transactions['date'] = pd.to_datetime(transactions['date'])\n",
    "\n",
    "transactions['year'] = transactions['date'].dt.year\n",
    "transactions['month'] = transactions['date'].dt.month\n",
    "transactions['day'] = transactions['date'].dt.day\n",
    "transactions['hour'] = transactions['date'].dt.hour\n",
    "transactions['minute'] = transactions['date'].dt.minute\n",
    "\n",
    "transactions.drop(['date'], axis=1, inplace=True)"
   ]
  },
  {
   "cell_type": "markdown",
   "id": "9718d0ab",
   "metadata": {},
   "source": [
    "## Pre-processing"
   ]
  },
  {
   "cell_type": "code",
   "execution_count": 5,
   "id": "e1754344",
   "metadata": {},
   "outputs": [],
   "source": [
    "start_time = time.time()"
   ]
  },
  {
   "cell_type": "code",
   "execution_count": 6,
   "id": "ea759d32",
   "metadata": {},
   "outputs": [],
   "source": [
    "transactions = pd.get_dummies(transactions)"
   ]
  },
  {
   "cell_type": "code",
   "execution_count": 7,
   "id": "81a51782",
   "metadata": {
    "scrolled": false
   },
   "outputs": [],
   "source": [
    "scaler = StandardScaler()\n",
    "features_to_scale = ['transaction_dollar_amount']\n",
    "transactions[features_to_scale] = scaler.fit_transform(transactions[features_to_scale])"
   ]
  },
  {
   "cell_type": "code",
   "execution_count": 8,
   "id": "12c4afde",
   "metadata": {},
   "outputs": [],
   "source": [
    "np.random.seed(42)\n",
    "transactions['fraud_label'] = np.random.choice([0, 1], size=(len(transactions),), p=[0.95, 0.05])"
   ]
  },
  {
   "cell_type": "code",
   "execution_count": 9,
   "id": "ab682767",
   "metadata": {},
   "outputs": [],
   "source": [
    "X = transactions.drop('fraud_label', axis=1)\n",
    "y = transactions['fraud_label']\n",
    "X_train, X_test, y_train, y_test = train_test_split(X, y, test_size=0.2, random_state=42)"
   ]
  },
  {
   "cell_type": "code",
   "execution_count": 10,
   "id": "7d1d7ddf",
   "metadata": {
    "scrolled": true
   },
   "outputs": [
    {
     "name": "stdout",
     "output_type": "stream",
     "text": [
      "The preprocessing block took 0.08675193786621094 seconds to run.\n"
     ]
    }
   ],
   "source": [
    "elapsed_time = time.time() - start_time\n",
    "print(f\"The preprocessing block took {elapsed_time} seconds to run.\")"
   ]
  },
  {
   "cell_type": "code",
   "execution_count": 11,
   "id": "1551b50f",
   "metadata": {},
   "outputs": [
    {
     "name": "stdout",
     "output_type": "stream",
     "text": [
      "Number of features in X_train: 18\n"
     ]
    }
   ],
   "source": [
    "print(\"Number of features in X_train:\", X_train.shape[1])"
   ]
  },
  {
   "cell_type": "markdown",
   "id": "63922e59",
   "metadata": {},
   "source": [
    "## Model Development"
   ]
  },
  {
   "cell_type": "code",
   "execution_count": 12,
   "id": "37ea02a0",
   "metadata": {},
   "outputs": [],
   "source": [
    "start_time = time.time()"
   ]
  },
  {
   "cell_type": "code",
   "execution_count": 13,
   "id": "2efbd770",
   "metadata": {
    "scrolled": true
   },
   "outputs": [
    {
     "name": "stdout",
     "output_type": "stream",
     "text": [
      "Number of features in X_train: 18\n",
      "Number of features in X_test: 18\n"
     ]
    }
   ],
   "source": [
    "print(\"Number of features in X_train:\", X_train.shape[1])\n",
    "print(\"Number of features in X_test:\", X_test.shape[1])"
   ]
  },
  {
   "cell_type": "code",
   "execution_count": 14,
   "id": "53f45718",
   "metadata": {},
   "outputs": [],
   "source": [
    "model = Sequential([\n",
    "    Input(shape=(18,)),\n",
    "    Dense(16, activation='relu'),\n",
    "    Dense(16, activation='relu'),\n",
    "    Dense(1, activation='sigmoid')\n",
    "])"
   ]
  },
  {
   "cell_type": "code",
   "execution_count": 15,
   "id": "228c7663",
   "metadata": {},
   "outputs": [],
   "source": [
    "model.compile(optimizer='adam', loss='binary_crossentropy', metrics=['accuracy'])"
   ]
  },
  {
   "cell_type": "code",
   "execution_count": 16,
   "id": "8a8680ef",
   "metadata": {
    "scrolled": false
   },
   "outputs": [
    {
     "name": "stdout",
     "output_type": "stream",
     "text": [
      "Epoch 1/20\n",
      "\u001b[1m7365/7365\u001b[0m \u001b[32m━━━━━━━━━━━━━━━━━━━━\u001b[0m\u001b[37m\u001b[0m \u001b[1m3s\u001b[0m 354us/step - accuracy: 0.8930 - loss: 8314212581376.0000 - val_accuracy: 0.9511 - val_loss: 2221261455360.0000\n",
      "Epoch 2/20\n",
      "\u001b[1m7365/7365\u001b[0m \u001b[32m━━━━━━━━━━━━━━━━━━━━\u001b[0m\u001b[37m\u001b[0m \u001b[1m2s\u001b[0m 337us/step - accuracy: 0.9046 - loss: 1087539773440.0000 - val_accuracy: 0.9511 - val_loss: 298977460224.0000\n",
      "Epoch 3/20\n",
      "\u001b[1m7365/7365\u001b[0m \u001b[32m━━━━━━━━━━━━━━━━━━━━\u001b[0m\u001b[37m\u001b[0m \u001b[1m3s\u001b[0m 342us/step - accuracy: 0.9038 - loss: 932244160512.0000 - val_accuracy: 0.9511 - val_loss: 1029683019776.0000\n",
      "Epoch 4/20\n",
      "\u001b[1m7365/7365\u001b[0m \u001b[32m━━━━━━━━━━━━━━━━━━━━\u001b[0m\u001b[37m\u001b[0m \u001b[1m2s\u001b[0m 337us/step - accuracy: 0.9048 - loss: 760718688256.0000 - val_accuracy: 0.0489 - val_loss: 24278323200.0000\n",
      "Epoch 5/20\n",
      "\u001b[1m7365/7365\u001b[0m \u001b[32m━━━━━━━━━━━━━━━━━━━━\u001b[0m\u001b[37m\u001b[0m \u001b[1m2s\u001b[0m 335us/step - accuracy: 0.9038 - loss: 627086000128.0000 - val_accuracy: 0.9511 - val_loss: 313999261696.0000\n",
      "Epoch 6/20\n",
      "\u001b[1m7365/7365\u001b[0m \u001b[32m━━━━━━━━━━━━━━━━━━━━\u001b[0m\u001b[37m\u001b[0m \u001b[1m3s\u001b[0m 342us/step - accuracy: 0.9040 - loss: 479777357824.0000 - val_accuracy: 0.9511 - val_loss: 274382176256.0000\n",
      "Epoch 7/20\n",
      "\u001b[1m7365/7365\u001b[0m \u001b[32m━━━━━━━━━━━━━━━━━━━━\u001b[0m\u001b[37m\u001b[0m \u001b[1m3s\u001b[0m 344us/step - accuracy: 0.9034 - loss: 316668411904.0000 - val_accuracy: 0.9511 - val_loss: 282395934720.0000\n",
      "Epoch 8/20\n",
      "\u001b[1m7365/7365\u001b[0m \u001b[32m━━━━━━━━━━━━━━━━━━━━\u001b[0m\u001b[37m\u001b[0m \u001b[1m3s\u001b[0m 349us/step - accuracy: 0.9044 - loss: 218525401088.0000 - val_accuracy: 0.9511 - val_loss: 118779437056.0000\n",
      "Epoch 9/20\n",
      "\u001b[1m7365/7365\u001b[0m \u001b[32m━━━━━━━━━━━━━━━━━━━━\u001b[0m\u001b[37m\u001b[0m \u001b[1m3s\u001b[0m 346us/step - accuracy: 0.9048 - loss: 125785849856.0000 - val_accuracy: 0.0489 - val_loss: 1506674048.0000\n",
      "Epoch 10/20\n",
      "\u001b[1m7365/7365\u001b[0m \u001b[32m━━━━━━━━━━━━━━━━━━━━\u001b[0m\u001b[37m\u001b[0m \u001b[1m2s\u001b[0m 330us/step - accuracy: 0.9052 - loss: 19856889856.0000 - val_accuracy: 0.9511 - val_loss: 0.2579\n",
      "Epoch 11/20\n",
      "\u001b[1m7365/7365\u001b[0m \u001b[32m━━━━━━━━━━━━━━━━━━━━\u001b[0m\u001b[37m\u001b[0m \u001b[1m3s\u001b[0m 339us/step - accuracy: 0.9479 - loss: 0.2631 - val_accuracy: 0.9511 - val_loss: 0.1953\n",
      "Epoch 12/20\n",
      "\u001b[1m7365/7365\u001b[0m \u001b[32m━━━━━━━━━━━━━━━━━━━━\u001b[0m\u001b[37m\u001b[0m \u001b[1m3s\u001b[0m 340us/step - accuracy: 0.9496 - loss: 0.1996 - val_accuracy: 0.9511 - val_loss: 0.1952\n",
      "Epoch 13/20\n",
      "\u001b[1m7365/7365\u001b[0m \u001b[32m━━━━━━━━━━━━━━━━━━━━\u001b[0m\u001b[37m\u001b[0m \u001b[1m3s\u001b[0m 343us/step - accuracy: 0.9495 - loss: 0.1999 - val_accuracy: 0.9511 - val_loss: 0.1952\n",
      "Epoch 14/20\n",
      "\u001b[1m7365/7365\u001b[0m \u001b[32m━━━━━━━━━━━━━━━━━━━━\u001b[0m\u001b[37m\u001b[0m \u001b[1m3s\u001b[0m 339us/step - accuracy: 0.9492 - loss: 0.2008 - val_accuracy: 0.9511 - val_loss: 0.1952\n",
      "Epoch 15/20\n",
      "\u001b[1m7365/7365\u001b[0m \u001b[32m━━━━━━━━━━━━━━━━━━━━\u001b[0m\u001b[37m\u001b[0m \u001b[1m3s\u001b[0m 340us/step - accuracy: 0.9501 - loss: 0.1982 - val_accuracy: 0.9511 - val_loss: 0.1952\n",
      "Epoch 16/20\n",
      "\u001b[1m7365/7365\u001b[0m \u001b[32m━━━━━━━━━━━━━━━━━━━━\u001b[0m\u001b[37m\u001b[0m \u001b[1m3s\u001b[0m 340us/step - accuracy: 0.9494 - loss: 0.2002 - val_accuracy: 0.9511 - val_loss: 0.1952\n",
      "Epoch 17/20\n",
      "\u001b[1m7365/7365\u001b[0m \u001b[32m━━━━━━━━━━━━━━━━━━━━\u001b[0m\u001b[37m\u001b[0m \u001b[1m3s\u001b[0m 342us/step - accuracy: 0.9501 - loss: 0.1983 - val_accuracy: 0.9511 - val_loss: 0.1953\n",
      "Epoch 18/20\n",
      "\u001b[1m7365/7365\u001b[0m \u001b[32m━━━━━━━━━━━━━━━━━━━━\u001b[0m\u001b[37m\u001b[0m \u001b[1m3s\u001b[0m 341us/step - accuracy: 0.9494 - loss: 0.2002 - val_accuracy: 0.9511 - val_loss: 0.1952\n",
      "Epoch 19/20\n",
      "\u001b[1m7365/7365\u001b[0m \u001b[32m━━━━━━━━━━━━━━━━━━━━\u001b[0m\u001b[37m\u001b[0m \u001b[1m3s\u001b[0m 342us/step - accuracy: 0.9496 - loss: 0.1996 - val_accuracy: 0.9511 - val_loss: 0.1952\n",
      "Epoch 20/20\n",
      "\u001b[1m7365/7365\u001b[0m \u001b[32m━━━━━━━━━━━━━━━━━━━━\u001b[0m\u001b[37m\u001b[0m \u001b[1m3s\u001b[0m 341us/step - accuracy: 0.9495 - loss: 0.1999 - val_accuracy: 0.9511 - val_loss: 0.1952\n"
     ]
    },
    {
     "data": {
      "text/plain": [
       "<keras.src.callbacks.history.History at 0x16c132190>"
      ]
     },
     "execution_count": 16,
     "metadata": {},
     "output_type": "execute_result"
    }
   ],
   "source": [
    "model.fit(X_train, y_train, epochs=20, batch_size=32, validation_data=(X_test, y_test))"
   ]
  },
  {
   "cell_type": "code",
   "execution_count": 17,
   "id": "d6e0fe8d",
   "metadata": {},
   "outputs": [
    {
     "name": "stdout",
     "output_type": "stream",
     "text": [
      "The model training block took 50.93340301513672 seconds to run.\n"
     ]
    }
   ],
   "source": [
    "elapsed_time = time.time() - start_time\n",
    "print(f\"The model training block took {elapsed_time} seconds to run.\")"
   ]
  },
  {
   "cell_type": "code",
   "execution_count": 18,
   "id": "71012915",
   "metadata": {},
   "outputs": [
    {
     "name": "stdout",
     "output_type": "stream",
     "text": [
      "\u001b[1m1842/1842\u001b[0m \u001b[32m━━━━━━━━━━━━━━━━━━━━\u001b[0m\u001b[37m\u001b[0m \u001b[1m0s\u001b[0m 203us/step\n"
     ]
    }
   ],
   "source": [
    "preds = model.predict(X_test)\n",
    "preds = np.round(preds).astype(int)"
   ]
  },
  {
   "cell_type": "code",
   "execution_count": 19,
   "id": "99c53953",
   "metadata": {},
   "outputs": [
    {
     "name": "stdout",
     "output_type": "stream",
     "text": [
      "Accuracy: 0.9511354764248616\n"
     ]
    }
   ],
   "source": [
    "print(\"Accuracy:\", accuracy_score(y_test, preds))"
   ]
  }
 ],
 "metadata": {
  "kernelspec": {
   "display_name": "Python 3 (ipykernel)",
   "language": "python",
   "name": "python3"
  },
  "language_info": {
   "codemirror_mode": {
    "name": "ipython",
    "version": 3
   },
   "file_extension": ".py",
   "mimetype": "text/x-python",
   "name": "python",
   "nbconvert_exporter": "python",
   "pygments_lexer": "ipython3",
   "version": "3.11.4"
  }
 },
 "nbformat": 4,
 "nbformat_minor": 5
}
